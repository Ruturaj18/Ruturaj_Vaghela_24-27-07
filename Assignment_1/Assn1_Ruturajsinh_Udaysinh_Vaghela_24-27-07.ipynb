{
 "cells": [
  {
   "cell_type": "markdown",
   "id": "e2e6d2ae",
   "metadata": {},
   "source": [
    "# 1. Matrix Multiplication"
   ]
  },
  {
   "cell_type": "code",
   "execution_count": 1,
   "id": "b227950f",
   "metadata": {},
   "outputs": [
    {
     "name": "stdout",
     "output_type": "stream",
     "text": [
      "Enter Row and column of first and second matrix: 2 2 2 2\n",
      "Enter values of 1st matrix\n",
      "1\n",
      "2\n",
      "3\n",
      "4\n",
      "\n",
      "Enter values of 2nd matrix\n",
      "\n",
      "5\n",
      "6\n",
      "7\n",
      "8\n",
      "Multiplication of the 2 matrices gives: \n",
      " [[19 22]\n",
      " [43 50]]\n"
     ]
    }
   ],
   "source": [
    "import numpy as np\n",
    "\n",
    "L1, L2 = [], []\n",
    "r1, c1, r2, c2 = map(int, input(\"Enter Row and column of first and second matrix: \").split())\n",
    "\n",
    "if r2 == c1:\n",
    "    print(\"Enter values of 1st matrix\")\n",
    "    L1 = [[int(input()) for j in range (c1)] for i in range(r1)]\n",
    "    \n",
    "    print(\"\\nEnter values of 2nd matrix\\n\")\n",
    "    L2 = [[int(input()) for j in range (c2)] for i in range(r2)]\n",
    "        \n",
    "    print(\"Multiplication of the 2 matrices gives: \\n\", np.dot(L1, L2))\n",
    "    \n",
    "else:\n",
    "    print(\"Multiplication not possible\")"
   ]
  },
  {
   "cell_type": "markdown",
   "id": "6452ba89",
   "metadata": {},
   "source": [
    "## 2. Flatten a nested list"
   ]
  },
  {
   "cell_type": "code",
   "execution_count": 16,
   "id": "ce79c3ef",
   "metadata": {},
   "outputs": [
    {
     "name": "stdout",
     "output_type": "stream",
     "text": [
      "[1, 2, 3, 4, 5, 6]\n"
     ]
    }
   ],
   "source": [
    "def gg(l):\n",
    "    for i in l:\n",
    "        if type(i) == list:\n",
    "            gg(i)\n",
    "        else:\n",
    "            L1.append(i)\n",
    "\n",
    "L = [1, [2, [3, 4], 5], 6]\n",
    "L1 = []\n",
    "gg(L)\n",
    "print(L1)"
   ]
  },
  {
   "cell_type": "markdown",
   "id": "f1ebd908",
   "metadata": {},
   "source": [
    "# 3. Inventory Management"
   ]
  },
  {
   "cell_type": "code",
   "execution_count": 1,
   "id": "e9f9fead",
   "metadata": {},
   "outputs": [
    {
     "name": "stdout",
     "output_type": "stream",
     "text": [
      "Enter the inventory? (Y/N): y\n",
      "\n",
      "1. Add an item to the inventory.\n",
      "2. Remove an item from the inventory.\n",
      "3. Update the quantity of an existing item.\n",
      "4. Display the current inventory in alphabetical order.\n",
      "\n",
      "Choose a number (1/2/3/4): 1\n",
      "\n",
      "Enter name of item and quantity: Tushar 8\n",
      "Item was added to inventory\n",
      "\n",
      "Stay in the inventory? (Y/N): y\n",
      "\n",
      "1. Add an item to the inventory.\n",
      "2. Remove an item from the inventory.\n",
      "3. Update the quantity of an existing item.\n",
      "4. Display the current inventory in alphabetical order.\n",
      "\n",
      "Choose a number (1/2/3/4): 1\n",
      "\n",
      "Enter name of item and quantity: Parth 9\n",
      "Item was added to inventory\n",
      "\n",
      "Stay in the inventory? (Y/N): y\n",
      "\n",
      "1. Add an item to the inventory.\n",
      "2. Remove an item from the inventory.\n",
      "3. Update the quantity of an existing item.\n",
      "4. Display the current inventory in alphabetical order.\n",
      "\n",
      "Choose a number (1/2/3/4): 1\n",
      "\n",
      "Enter name of item and quantity: Kabir 6\n",
      "Item was added to inventory\n",
      "\n",
      "Stay in the inventory? (Y/N): y\n",
      "\n",
      "1. Add an item to the inventory.\n",
      "2. Remove an item from the inventory.\n",
      "3. Update the quantity of an existing item.\n",
      "4. Display the current inventory in alphabetical order.\n",
      "\n",
      "Choose a number (1/2/3/4): 1\n",
      "\n",
      "Enter name of item and quantity: Dishang 10\n",
      "Item was added to inventory\n",
      "\n",
      "Stay in the inventory? (Y/N): Y\n",
      "\n",
      "1. Add an item to the inventory.\n",
      "2. Remove an item from the inventory.\n",
      "3. Update the quantity of an existing item.\n",
      "4. Display the current inventory in alphabetical order.\n",
      "\n",
      "Choose a number (1/2/3/4): 1\n",
      "\n",
      "Enter name of item and quantity: Sujey 4\n",
      "Item was added to inventory\n",
      "\n",
      "Stay in the inventory? (Y/N): y\n",
      "\n",
      "1. Add an item to the inventory.\n",
      "2. Remove an item from the inventory.\n",
      "3. Update the quantity of an existing item.\n",
      "4. Display the current inventory in alphabetical order.\n",
      "\n",
      "Choose a number (1/2/3/4): 4\n",
      "\n",
      "{'Dishang': 10, 'Kabir': 6, 'Parth': 9, 'Sujey': 4, 'Tushar': 8}\n",
      "\n",
      "Stay in the inventory? (Y/N): 3\n",
      "Invalid Input\n",
      "\n",
      "Stay in the inventory? (Y/N): Dishang 8\n",
      "Invalid Input\n",
      "\n",
      "Stay in the inventory? (Y/N): y\n",
      "\n",
      "1. Add an item to the inventory.\n",
      "2. Remove an item from the inventory.\n",
      "3. Update the quantity of an existing item.\n",
      "4. Display the current inventory in alphabetical order.\n",
      "\n",
      "Choose a number (1/2/3/4): 3\n",
      "\n",
      "Enter name of item and quantity: Dishang 8\n",
      "Item found and quantity was updated\n",
      "\n",
      "Stay in the inventory? (Y/N): y\n",
      "\n",
      "1. Add an item to the inventory.\n",
      "2. Remove an item from the inventory.\n",
      "3. Update the quantity of an existing item.\n",
      "4. Display the current inventory in alphabetical order.\n",
      "\n",
      "Choose a number (1/2/3/4): 4\n",
      "\n",
      "{'Dishang': 18, 'Kabir': 6, 'Parth': 9, 'Sujey': 4, 'Tushar': 8}\n",
      "\n",
      "Stay in the inventory? (Y/N): y\n",
      "\n",
      "1. Add an item to the inventory.\n",
      "2. Remove an item from the inventory.\n",
      "3. Update the quantity of an existing item.\n",
      "4. Display the current inventory in alphabetical order.\n",
      "\n",
      "Choose a number (1/2/3/4): 3\n",
      "\n",
      "Enter name of item and quantity: Dishang -10\n",
      "Item found and quantity was updated\n",
      "\n",
      "Stay in the inventory? (Y/N): y\n",
      "\n",
      "1. Add an item to the inventory.\n",
      "2. Remove an item from the inventory.\n",
      "3. Update the quantity of an existing item.\n",
      "4. Display the current inventory in alphabetical order.\n",
      "\n",
      "Choose a number (1/2/3/4): 4\n",
      "\n",
      "{'Dishang': 8, 'Kabir': 6, 'Parth': 9, 'Sujey': 4, 'Tushar': 8}\n",
      "\n",
      "Stay in the inventory? (Y/N): y\n",
      "\n",
      "1. Add an item to the inventory.\n",
      "2. Remove an item from the inventory.\n",
      "3. Update the quantity of an existing item.\n",
      "4. Display the current inventory in alphabetical order.\n",
      "\n",
      "Choose a number (1/2/3/4): 2\n",
      "\n",
      "Enter item to be deleted: Sujev\n",
      "Item not found in inventory\n",
      "\n",
      "Stay in the inventory? (Y/N): y\n",
      "\n",
      "1. Add an item to the inventory.\n",
      "2. Remove an item from the inventory.\n",
      "3. Update the quantity of an existing item.\n",
      "4. Display the current inventory in alphabetical order.\n",
      "\n",
      "Choose a number (1/2/3/4): 2\n",
      "\n",
      "Enter item to be deleted: Sujey\n",
      "Item deleted\n",
      "\n",
      "Stay in the inventory? (Y/N): y\n",
      "\n",
      "1. Add an item to the inventory.\n",
      "2. Remove an item from the inventory.\n",
      "3. Update the quantity of an existing item.\n",
      "4. Display the current inventory in alphabetical order.\n",
      "\n",
      "Choose a number (1/2/3/4): 4\n",
      "\n",
      "{'Dishang': 8, 'Kabir': 6, 'Parth': 9, 'Tushar': 8}\n",
      "\n",
      "Stay in the inventory? (Y/N): n\n",
      "\n",
      "Aight Good Byee!!\n"
     ]
    }
   ],
   "source": [
    "D = {}\n",
    "\n",
    "enter = input(\"Enter the inventory? (Y/N): \").lower()\n",
    "L = ['y', 'n']\n",
    "print()\n",
    "\n",
    "while (enter == 'y'):\n",
    "    print('''1. Add an item to the inventory.\n",
    "2. Remove an item from the inventory.\n",
    "3. Update the quantity of an existing item.\n",
    "4. Display the current inventory in alphabetical order.''')\n",
    "    \n",
    "    n = input(\"\\nChoose a number (1/2/3/4): \")\n",
    "    print()\n",
    "    \n",
    "    if n == '1':\n",
    "        name, quantity = input(\"Enter name of item and quantity: \").split()\n",
    "        D[name] = int(quantity)\n",
    "        print(\"Item was added to inventory\")\n",
    "    \n",
    "    elif n == '2':\n",
    "        name = input(\"Enter item to be deleted: \")\n",
    "        if name in D:\n",
    "            del D[name]\n",
    "            print(\"Item deleted\")\n",
    "        else:\n",
    "            print(\"Item not found in inventory\")\n",
    "    \n",
    "    elif n == '3':\n",
    "        name, quantity = input(\"Enter name of item and quantity: \").split()\n",
    "        D[name] += int(quantity)\n",
    "        print(\"Item found and quantity was updated\")\n",
    "        \n",
    "    elif n == '4':\n",
    "        L1 = list(D.keys())\n",
    "        L1.sort()\n",
    "        print({i: D[i] for i in L1})\n",
    "        \n",
    "    else:\n",
    "        print(\"Invalid Input\")\n",
    "\n",
    "    enter = input(\"\\nStay in the inventory? (Y/N): \").lower()\n",
    "    while enter not in L:\n",
    "        print(\"Invalid Input\")\n",
    "        enter = input(\"\\nStay in the inventory? (Y/N): \").lower()\n",
    "        if enter == 'y' or enter == 'n':\n",
    "            break\n",
    "        \n",
    "    print()\n",
    "\n",
    "print(\"Aight Good Byee!!\")"
   ]
  },
  {
   "cell_type": "markdown",
   "id": "23650a99",
   "metadata": {},
   "source": [
    "# 4. Longest increasing subsequence"
   ]
  },
  {
   "cell_type": "code",
   "execution_count": 4,
   "id": "9b7bf5fe",
   "metadata": {},
   "outputs": [
    {
     "name": "stdout",
     "output_type": "stream",
     "text": [
      "Enter array elements: 10 22 9 33 21 50 41 60 80\n",
      "Longest increasing subsequence:  [10, 22, 33, 50, 60, 80]\n"
     ]
    }
   ],
   "source": [
    "L = list(map(int, input(\"Enter array elements: \").split()))\n",
    "L1 = [L[0]]\n",
    "\n",
    "temp = L[0]\n",
    "for i in L:\n",
    "    if i > temp:\n",
    "        L1.append(i)\n",
    "        temp = i\n",
    "print(\"Longest increasing subsequence: \", L1)"
   ]
  },
  {
   "cell_type": "markdown",
   "id": "f1a6171c",
   "metadata": {},
   "source": [
    "# 5. Anagrams"
   ]
  },
  {
   "cell_type": "code",
   "execution_count": 8,
   "id": "82143a72",
   "metadata": {},
   "outputs": [
    {
     "name": "stdout",
     "output_type": "stream",
     "text": [
      "Enter wordlist: listen silent enlist rat tar art\n",
      "Enter target: silent\n",
      "['listen', 'silent', 'enlist']\n"
     ]
    }
   ],
   "source": [
    "# listen silent enlist rat tar art\n",
    "L = list(map(str, input(\"Enter wordlist: \").split()))\n",
    "target = input(\"Enter target: \")\n",
    "L1 = []\n",
    "\n",
    "for i in L:\n",
    "    if sorted(target) == sorted(i):\n",
    "        L1.append(i)\n",
    "print(L1)"
   ]
  },
  {
   "cell_type": "markdown",
   "id": "235ec90c",
   "metadata": {},
   "source": [
    "# 6. Knapsack Problem (Bonus)"
   ]
  },
  {
   "cell_type": "code",
   "execution_count": 28,
   "id": "632ca048",
   "metadata": {},
   "outputs": [
    {
     "name": "stdout",
     "output_type": "stream",
     "text": [
      "The max capacity is 7\n",
      "Values choosen are: item1, item2\n"
     ]
    }
   ],
   "source": [
    "L = [\n",
    "    {'name':'item1', 'weight':2, 'value':3},\n",
    "    {'name':'item2', 'weight':3, 'value':4},\n",
    "    {'name':'item3', 'weight':4, 'value':5},\n",
    "    {'name':'item4', 'weight':5, 'value':6}\n",
    "]\n",
    "\n",
    "out = []\n",
    "c, n = 5, len(L)\n",
    "wt, val = [i['weight'] for i in L], [i['value'] for i in L]\n",
    "\n",
    "def knapSack(c, wt, val, n):\n",
    "    dp = [0 for i in range(c+1)]\n",
    "    for i in range(1, n+1):\n",
    "        for w in range(c, 0, -1):\n",
    "            if wt[i-1] <= w:\n",
    "                if dp[w-wt[i-1]]+val[i-1] > max(dp):\n",
    "                    if L[i-1]['name'] not in out:\n",
    "                        out.append(L[i-1]['name'])\n",
    "                dp[w] = max(dp[w], dp[w-wt[i-1]]+val[i-1])\n",
    "                \n",
    "    return dp[c]\n",
    "\n",
    "a = knapSack(c, wt, val, n)\n",
    "ans = \", \".join(out)\n",
    "print(f\"The max capacity is {a}\\nValues choosen are: {ans}\")"
   ]
  },
  {
   "cell_type": "code",
   "execution_count": null,
   "id": "3dcd5097",
   "metadata": {},
   "outputs": [],
   "source": []
  }
 ],
 "metadata": {
  "kernelspec": {
   "display_name": "Python 3",
   "language": "python",
   "name": "python3"
  },
  "language_info": {
   "codemirror_mode": {
    "name": "ipython",
    "version": 3
   },
   "file_extension": ".py",
   "mimetype": "text/x-python",
   "name": "python",
   "nbconvert_exporter": "python",
   "pygments_lexer": "ipython3",
   "version": "3.8.8"
  }
 },
 "nbformat": 4,
 "nbformat_minor": 5
}

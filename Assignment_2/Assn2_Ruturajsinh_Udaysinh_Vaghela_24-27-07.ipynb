{
 "cells": [
  {
   "cell_type": "markdown",
   "id": "443f9ad6",
   "metadata": {},
   "source": [
    "# Name: Ruturajsinh Udaysinh Vaghela\n",
    "# Reg No: 24-27-07\n",
    "# Programme: MTech Data Science\n",
    "# Assignment Number: 2"
   ]
  },
  {
   "cell_type": "markdown",
   "id": "b46c54d1",
   "metadata": {},
   "source": [
    "# Q1"
   ]
  },
  {
   "cell_type": "code",
   "execution_count": 1,
   "id": "af4f04e7",
   "metadata": {},
   "outputs": [
    {
     "name": "stdout",
     "output_type": "stream",
     "text": [
      "[ 0  1  2  3  4  5  6  7  8  9 10 11 12 13 14 15 16 17 18 19 20 21 22 23\n",
      " 24 25 26 27 28 29 30]\n"
     ]
    },
    {
     "data": {
      "text/plain": [
       "(31,)"
      ]
     },
     "execution_count": 1,
     "metadata": {},
     "output_type": "execute_result"
    }
   ],
   "source": [
    "# a)\n",
    "\n",
    "import numpy as np\n",
    "var1 = np.arange(0, 31)\n",
    "print(var1)\n",
    "var1.shape"
   ]
  },
  {
   "cell_type": "code",
   "execution_count": 2,
   "id": "51563dd0",
   "metadata": {},
   "outputs": [
    {
     "name": "stdout",
     "output_type": "stream",
     "text": [
      "[[ 1  2  3  4  5  6]\n",
      " [ 7  8  9 10 11 12]\n",
      " [13 14 15 16 17 18]\n",
      " [19 20 21 22 23 24]\n",
      " [25 26 27 28 29 30]]\n"
     ]
    },
    {
     "data": {
      "text/plain": [
       "(5, 6)"
      ]
     },
     "execution_count": 2,
     "metadata": {},
     "output_type": "execute_result"
    }
   ],
   "source": [
    "# b)\n",
    "# Since var1 has 31 elements and 31 can't be converted into 2D. So removing the first element to make it 30\n",
    "\n",
    "var1 = np.delete(var1, 0)\n",
    "\n",
    "var2 = var1.reshape(5, 6)\n",
    "print(var2)\n",
    "var2.shape"
   ]
  },
  {
   "cell_type": "code",
   "execution_count": 3,
   "id": "b485e68f",
   "metadata": {},
   "outputs": [
    {
     "name": "stdout",
     "output_type": "stream",
     "text": [
      "[[[ 1  2  3]\n",
      "  [ 4  5  6]\n",
      "  [ 7  8  9]\n",
      "  [10 11 12]\n",
      "  [13 14 15]]\n",
      "\n",
      " [[16 17 18]\n",
      "  [19 20 21]\n",
      "  [22 23 24]\n",
      "  [25 26 27]\n",
      "  [28 29 30]]]\n"
     ]
    },
    {
     "data": {
      "text/plain": [
       "(2, 5, 3)"
      ]
     },
     "execution_count": 3,
     "metadata": {},
     "output_type": "execute_result"
    }
   ],
   "source": [
    "# c)\n",
    "\n",
    "var3 = var1.reshape(2, 5, 3)\n",
    "print(var3)\n",
    "var3.shape"
   ]
  },
  {
   "cell_type": "code",
   "execution_count": 4,
   "id": "7a2ddd25",
   "metadata": {},
   "outputs": [
    {
     "name": "stdout",
     "output_type": "stream",
     "text": [
      "Var 2: \n",
      "[[ 1  2  3  4  5  6]\n",
      " [-1  8  9 10 11 12]\n",
      " [13 14 15 16 17 18]\n",
      " [19 20 21 22 23 24]\n",
      " [25 26 27 28 29 30]] \n",
      "\n",
      " Var 1: \n",
      "[ 1  2  3  4  5  6 -1  8  9 10 11 12 13 14 15 16 17 18 19 20 21 22 23 24\n",
      " 25 26 27 28 29 30] \n",
      "\n",
      " Var 3: \n",
      "[[[ 1  2  3]\n",
      "  [ 4  5  6]\n",
      "  [-1  8  9]\n",
      "  [10 11 12]\n",
      "  [13 14 15]]\n",
      "\n",
      " [[16 17 18]\n",
      "  [19 20 21]\n",
      "  [22 23 24]\n",
      "  [25 26 27]\n",
      "  [28 29 30]]]\n",
      "\n",
      "Since we used reshape on var1 to get var2 and var3 it creates a copy or the numpy array\n",
      "Hence if the elements of 1 array is modified... The other 2 arrays elements will also be modified\n",
      "Therefor when we changed var2 elements as -1 it also reflected in var1 and var3\n",
      "\n"
     ]
    }
   ],
   "source": [
    "# d)\n",
    "\n",
    "var2[1][0] = -1\n",
    "print(f\"Var 2: \\n{var2} \\n\\n Var 1: \\n{var1} \\n\\n Var 3: \\n{var3}\")\n",
    "\n",
    "print('''\n",
    "Since we used reshape on var1 to get var2 and var3 it creates a copy or the numpy array\n",
    "Hence if the elements of 1 array is modified... The other 2 arrays elements will also be modified\n",
    "Therefor when we changed var2 elements as -1 it also reflected in var1 and var3\n",
    "''')"
   ]
  },
  {
   "cell_type": "code",
   "execution_count": 6,
   "id": "0c41d69e",
   "metadata": {},
   "outputs": [
    {
     "name": "stdout",
     "output_type": "stream",
     "text": [
      "Sum over 2nd Dimension: \n",
      " [[ 27  40  45]\n",
      " [110 115 120]]\n",
      "\n",
      "Sum over 3rd Dimension: \n",
      " [[ 6 15 16 33 42]\n",
      " [51 60 69 78 87]]\n",
      "\n",
      "Sum over 1st and 3rd Dimensions: \n",
      " [ 57  75  85 111 129]\n"
     ]
    }
   ],
   "source": [
    "# e)\n",
    "\n",
    "# i)\n",
    "res1 = np.sum(var3, axis = 1)\n",
    "print(\"Sum over 2nd Dimension: \\n\", res1)\n",
    "\n",
    "# ii)\n",
    "res2 = np.sum(var3, axis = 2)\n",
    "print(\"\\nSum over 3rd Dimension: \\n\", res2)\n",
    "\n",
    "# iii)\n",
    "res3 = np.sum(var3, axis = (0, 2))\n",
    "print(\"\\nSum over 1st and 3rd Dimensions: \\n\", res3)"
   ]
  },
  {
   "cell_type": "code",
   "execution_count": 10,
   "id": "195ae902",
   "metadata": {},
   "outputs": [
    {
     "name": "stdout",
     "output_type": "stream",
     "text": [
      "Var2: \n",
      " [[ 1  2  3  4  5  6]\n",
      " [-1  8  9 10 11 12]\n",
      " [13 14 15 16 17 18]\n",
      " [19 20 21 22 23 24]\n",
      " [25 26 27 28 29 30]]\n",
      "\n",
      "2nd Row of var2: \n",
      " [-1  8  9 10 11 12]\n",
      "\n",
      "Last column of var2: \n",
      " [ 6 12 18 24 30]\n",
      "\n",
      "Top Right 2×2 Submatrix of var2: \n",
      " [[ 5  6]\n",
      " [11 12]]\n"
     ]
    }
   ],
   "source": [
    "# f)\n",
    "\n",
    "print(\"Var2: \\n\", var2)\n",
    "# i)\n",
    "res1 = var2[1]\n",
    "print(\"\\n2nd Row of var2: \\n\", res1)\n",
    "\n",
    "# ii)\n",
    "res2 = var2[:, -1]\n",
    "print(\"\\nLast column of var2: \\n\", res2)\n",
    "\n",
    "# iii)\n",
    "res3 = var2[:2, -2:]\n",
    "print(\"\\nTop Right 2×2 Submatrix of var2: \\n\", res3)"
   ]
  },
  {
   "cell_type": "markdown",
   "id": "b0aba4eb",
   "metadata": {},
   "source": [
    "# Q2"
   ]
  },
  {
   "cell_type": "code",
   "execution_count": 12,
   "id": "3c1b7f36",
   "metadata": {},
   "outputs": [
    {
     "name": "stdout",
     "output_type": "stream",
     "text": [
      "[ 1  2  3  4  5  6  7  8  9 10]\n"
     ]
    }
   ],
   "source": [
    "# a)\n",
    "\n",
    "vector = np.arange(10) + 1\n",
    "print(vector)"
   ]
  },
  {
   "cell_type": "code",
   "execution_count": 13,
   "id": "8b0cb35d",
   "metadata": {},
   "outputs": [
    {
     "name": "stdout",
     "output_type": "stream",
     "text": [
      "[[ 2  3  4  5  6  7  8  9 10 11]\n",
      " [ 3  4  5  6  7  8  9 10 11 12]\n",
      " [ 4  5  6  7  8  9 10 11 12 13]\n",
      " [ 5  6  7  8  9 10 11 12 13 14]\n",
      " [ 6  7  8  9 10 11 12 13 14 15]\n",
      " [ 7  8  9 10 11 12 13 14 15 16]\n",
      " [ 8  9 10 11 12 13 14 15 16 17]\n",
      " [ 9 10 11 12 13 14 15 16 17 18]\n",
      " [10 11 12 13 14 15 16 17 18 19]\n",
      " [11 12 13 14 15 16 17 18 19 20]]\n"
     ]
    }
   ],
   "source": [
    "# b)\n",
    "\n",
    "A = vector.reshape(10, 1) + vector\n",
    "print(A)"
   ]
  },
  {
   "cell_type": "code",
   "execution_count": 17,
   "id": "a7bf92c9",
   "metadata": {},
   "outputs": [],
   "source": [
    "# c)\n",
    "\n",
    "import numpy.random as npr\n",
    "data = np.exp(npr.randn(50, 5))"
   ]
  },
  {
   "cell_type": "code",
   "execution_count": 18,
   "id": "c6018e30",
   "metadata": {},
   "outputs": [
    {
     "name": "stdout",
     "output_type": "stream",
     "text": [
      "[[ 1.03540376  0.32884487  0.2041805   0.16389041  3.17432344]\n",
      " [ 0.65233132  0.17048763  3.68866082  0.18364127  2.39669719]\n",
      " [ 1.9434254   1.88433181  0.62566655  0.30496564  0.37400965]\n",
      " [ 0.31637298  0.29774947  1.13593444  1.3723215   7.30320315]\n",
      " [ 0.15974331  0.44263702  1.4181086   0.1656185   0.36385167]\n",
      " [ 1.59628369  3.51131038  1.33953283  0.77714533  0.88223619]\n",
      " [ 2.04747583  0.44492639  0.30468473  0.68722602  0.88669336]\n",
      " [ 3.47633574  0.92106767  0.64819553  0.20584494  0.33625396]\n",
      " [ 2.12048548  1.43327094  0.61994934  1.24343938  0.40237315]\n",
      " [ 0.32395723  4.11808269  1.81554419  0.42540764  6.01456447]\n",
      " [ 2.06500103  2.42584004  2.78394267  0.27204254  0.93305398]\n",
      " [ 2.43545405  2.54995427  0.43742659  0.71210955  1.54000187]\n",
      " [ 3.45851146  0.68550593  2.57525154  1.32884076  6.11538769]\n",
      " [ 1.39116844  2.33679793  0.59740371  2.19370203  1.00664067]\n",
      " [ 0.34809204  0.55288192  0.65633958  1.67873178  0.77780403]\n",
      " [ 0.16653839  0.06216871  2.90310372  0.80917034  2.31282778]\n",
      " [ 1.96083323  1.03694797  1.15133131  0.43801161  2.55432381]\n",
      " [ 1.06289088  0.15019003  0.30091183 11.82422007  4.15148286]\n",
      " [ 0.90875601  2.42227352  0.06676948  7.29777999  2.25848654]\n",
      " [ 2.81757182  0.74633122  0.81912607  4.14714423  0.34810124]\n",
      " [ 1.0803938   0.31597945  1.06202388  1.09561413  1.11338983]\n",
      " [ 2.34883685  4.27242299  0.18938682  0.69451032  2.37774493]\n",
      " [ 1.5854319   2.33172615  0.46884362  0.37278844  1.9409641 ]\n",
      " [ 1.59414834  0.53155462  0.35380838  0.40749922  0.69277184]\n",
      " [ 0.40729139  2.06151069  0.95550358  0.19268741  4.08065151]\n",
      " [ 0.38197093  1.21553045  1.20587396  1.78572015  1.77807371]\n",
      " [ 0.60757039  1.6631604   0.40151845  0.96825145  0.57416618]\n",
      " [ 5.51289961  0.53794806  2.53057997  4.85513193  1.62011431]\n",
      " [ 4.71039449  0.55179957  1.54993817  0.56815461  1.78101476]\n",
      " [ 6.99414687 15.56219753  0.24066803  0.25939194  0.61521684]\n",
      " [ 1.58911142  0.4231363   0.31331522  2.77830788  5.64477673]\n",
      " [ 1.07200218  0.53130138  0.40669175  0.42597589  0.48330686]\n",
      " [ 3.18258393  7.39574693  1.51134733  0.40291764  4.03870159]\n",
      " [ 6.95202993  2.85034287  2.60149095  2.57643669  1.07287481]\n",
      " [ 0.1796863   1.60960446  0.36245657  0.1097793   1.83865691]\n",
      " [ 1.90178314  6.45416597  2.36822904  0.76385274  1.27050148]\n",
      " [ 1.35199111  1.99484792  8.28585708  0.25622437  1.60730882]\n",
      " [ 2.81768221  2.90715103  1.31333721  2.70620475  0.33868731]\n",
      " [ 0.54164594  1.9992426   0.74388008  0.99725938  2.36779158]\n",
      " [ 1.39385974  1.81466476  5.85367832  0.35733437  0.58046304]\n",
      " [ 0.257645    0.11976272  1.565816    0.71318411  2.98606164]\n",
      " [ 0.28026363  2.7991754   0.66023325  1.25813744  3.04776514]\n",
      " [ 1.47337937  2.01172756  0.89075888  1.40485025  1.31662864]\n",
      " [ 0.23879954  3.13109628  0.27305486  0.70933289  0.58237389]\n",
      " [ 1.69680722  0.73537066  0.71086759  0.76438023  0.39584341]\n",
      " [ 0.38554015  0.22444764  4.71102339  1.4305002   1.80013246]\n",
      " [ 0.54980885  0.48420732  0.85478117  0.9655112   3.20680018]\n",
      " [ 0.5100933   2.21649288  0.10731429  0.68344947  0.94670864]\n",
      " [ 0.32018325  1.065143    0.23089757  0.65115669  1.51458713]\n",
      " [ 1.46340815  0.24154595  0.82548266  4.83335876  1.20299169]]\n"
     ]
    }
   ],
   "source": [
    "# d)\n",
    "\n",
    "print(data)"
   ]
  },
  {
   "cell_type": "code",
   "execution_count": 22,
   "id": "e23a5ca9",
   "metadata": {},
   "outputs": [
    {
     "name": "stdout",
     "output_type": "stream",
     "text": [
      "Mean: [1.67336042 1.93149208 1.35281444 1.44438315 1.93898773]\n",
      "Standard Deviation: [1.59193028 2.47871806 1.54137272 2.03958503 1.64499246]\n"
     ]
    }
   ],
   "source": [
    "# e)\n",
    "\n",
    "mean = np.mean(data, axis = 0)\n",
    "s_dev = np.std(data, axis = 0)\n",
    "\n",
    "print(f\"Mean: {mean}\\nStandard Deviation: {s_dev}\")"
   ]
  },
  {
   "cell_type": "code",
   "execution_count": 23,
   "id": "6233c52d",
   "metadata": {},
   "outputs": [
    {
     "name": "stdout",
     "output_type": "stream",
     "text": [
      "Mean: [-1.75415238e-16 -1.93178806e-16 -5.21804822e-17 -1.64313008e-16\n",
      " -2.73114864e-16]\n",
      "Standard Deviation: [1. 1. 1. 1. 1.]\n"
     ]
    }
   ],
   "source": [
    "# f)\n",
    "\n",
    "norm = (data - mean)/s_dev\n",
    "\n",
    "mean = np.mean(norm, axis = 0)\n",
    "s_dev = np.std(norm, axis = 0)\n",
    "\n",
    "print(f\"Mean: {mean}\\nStandard Deviation: {s_dev}\")"
   ]
  },
  {
   "cell_type": "markdown",
   "id": "67b721a4",
   "metadata": {},
   "source": [
    "# Q3"
   ]
  },
  {
   "cell_type": "code",
   "execution_count": 54,
   "id": "c1d99913",
   "metadata": {},
   "outputs": [
    {
     "name": "stdout",
     "output_type": "stream",
     "text": [
      "[[          1           1           1           1           1           1\n",
      "            1           1           1           1           1           1]\n",
      " [          1           2           4           8          16          32\n",
      "           64         128         256         512        1024        2048]\n",
      " [          1           3           9          27          81         243\n",
      "          729        2187        6561       19683       59049      177147]\n",
      " [          1           4          16          64         256        1024\n",
      "         4096       16384       65536      262144     1048576     4194304]\n",
      " [          1           5          25         125         625        3125\n",
      "        15625       78125      390625     1953125     9765625    48828125]\n",
      " [          1           6          36         216        1296        7776\n",
      "        46656      279936     1679616    10077696    60466176   362797056]\n",
      " [          1           7          49         343        2401       16807\n",
      "       117649      823543     5764801    40353607   282475249  1977326743]\n",
      " [          1           8          64         512        4096       32768\n",
      "       262144     2097152    16777216   134217728  1073741824           0]\n",
      " [          1           9          81         729        6561       59049\n",
      "       531441     4782969    43046721   387420489  -808182895  1316288537]\n",
      " [          1          10         100        1000       10000      100000\n",
      "      1000000    10000000   100000000  1000000000  1410065408  1215752192]\n",
      " [          1          11         121        1331       14641      161051\n",
      "      1771561    19487171   214358881 -1937019605   167620825  1843829075]\n",
      " [          1          12         144        1728       20736      248832\n",
      "      2985984    35831808   429981696   864813056  1787822080   -20971520]]\n"
     ]
    }
   ],
   "source": [
    "# a)\n",
    "\n",
    "def vandermonde(N):\n",
    "    vec = np.arange(N) + 1\n",
    "    return vec[:, np.newaxis] ** (vec - 1)\n",
    "    \n",
    "res = vandermonde(12)\n",
    "print(res)"
   ]
  },
  {
   "cell_type": "code",
   "execution_count": 55,
   "id": "afca7b80",
   "metadata": {},
   "outputs": [
    {
     "name": "stdout",
     "output_type": "stream",
     "text": [
      "[1.20000000e+01 4.09500000e+03 2.65720000e+05 5.59240500e+06\n",
      " 6.10351560e+07 4.35356467e+08 2.30688120e+09 1.22713351e+09\n",
      " 9.43953692e+08 3.73692871e+09 3.10225064e+08 3.10073456e+09]\n"
     ]
    }
   ],
   "source": [
    "# b)\n",
    "\n",
    "x = np.ones(12)\n",
    "b = np.dot(res, x)\n",
    "print(b)"
   ]
  },
  {
   "cell_type": "code",
   "execution_count": 61,
   "id": "e4daa142",
   "metadata": {},
   "outputs": [
    {
     "name": "stdout",
     "output_type": "stream",
     "text": [
      "[1.00537872 0.99484253 0.99961472 1.00018311 0.99998856 1.00000012\n",
      " 1.         1.         1.         1.         1.         1.        ]\n"
     ]
    }
   ],
   "source": [
    "# c)\n",
    "\n",
    "from numpy.linalg import inv\n",
    "x2 = inv(res).dot(b)\n",
    "print(x2)"
   ]
  },
  {
   "cell_type": "code",
   "execution_count": 66,
   "id": "b9661f3e",
   "metadata": {},
   "outputs": [
    {
     "name": "stdout",
     "output_type": "stream",
     "text": [
      "[0.99999915 1.00000115 0.99999995 0.99999962 1.00000017 0.99999997\n",
      " 1.         1.         1.         1.         1.         1.        ]\n"
     ]
    }
   ],
   "source": [
    "# d)\n",
    "\n",
    "x3 = np.linalg.solve(res, b)\n",
    "print(x3)"
   ]
  },
  {
   "cell_type": "markdown",
   "id": "90616a31",
   "metadata": {},
   "source": [
    "# https://github.com/Ruturaj18/Ruturaj_Vaghela_24-27-07.git"
   ]
  }
 ],
 "metadata": {
  "kernelspec": {
   "display_name": "Python 3",
   "language": "python",
   "name": "python3"
  },
  "language_info": {
   "codemirror_mode": {
    "name": "ipython",
    "version": 3
   },
   "file_extension": ".py",
   "mimetype": "text/x-python",
   "name": "python",
   "nbconvert_exporter": "python",
   "pygments_lexer": "ipython3",
   "version": "3.8.8"
  }
 },
 "nbformat": 4,
 "nbformat_minor": 5
}
